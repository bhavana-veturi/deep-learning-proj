{
 "cells": [
  {
   "cell_type": "code",
   "execution_count": 2,
   "metadata": {},
   "outputs": [],
   "source": [
    "import tensorflow as  tf\n",
    "from tensorflow.keras.models import Sequential\n",
    "from tensorflow.keras.layers import Dense, Dropout, LSTM"
   ]
  },
  {
   "cell_type": "code",
   "execution_count": 3,
   "metadata": {},
   "outputs": [],
   "source": [
    "mnist = tf.keras.datasets.mnist\n",
    "\n",
    "(x_train, y_train), (x_test, y_test) = mnist.load_data()"
   ]
  },
  {
   "cell_type": "code",
   "execution_count": 4,
   "metadata": {},
   "outputs": [],
   "source": [
    "x_train = x_train / 255.0\n",
    "x_test = x_test / 255.0"
   ]
  },
  {
   "cell_type": "code",
   "execution_count": 5,
   "metadata": {},
   "outputs": [
    {
     "name": "stdout",
     "output_type": "stream",
     "text": [
      "(28, 28)\n"
     ]
    }
   ],
   "source": [
    "print(x_train[0].shape)\n"
   ]
  },
  {
   "cell_type": "code",
   "execution_count": 6,
   "metadata": {},
   "outputs": [
    {
     "name": "stdout",
     "output_type": "stream",
     "text": [
      "WARNING:tensorflow:From C:\\Users\\Bhavana\\Anaconda3.1\\envs\\tensorflow-cpu-keras\\lib\\site-packages\\tensorflow\\python\\ops\\resource_variable_ops.py:435: colocate_with (from tensorflow.python.framework.ops) is deprecated and will be removed in a future version.\n",
      "Instructions for updating:\n",
      "Colocations handled automatically by placer.\n",
      "WARNING:tensorflow:From C:\\Users\\Bhavana\\Anaconda3.1\\envs\\tensorflow-cpu-keras\\lib\\site-packages\\tensorflow\\python\\keras\\layers\\core.py:143: calling dropout (from tensorflow.python.ops.nn_ops) with keep_prob is deprecated and will be removed in a future version.\n",
      "Instructions for updating:\n",
      "Please use `rate` instead of `keep_prob`. Rate should be set to `rate = 1 - keep_prob`.\n"
     ]
    }
   ],
   "source": [
    "model = Sequential()\n",
    "model.add(LSTM(128, input_shape=(x_train.shape[1:]), activation='relu', return_sequences=True))\n",
    "model.add(Dropout(0.2))\n",
    "\n",
    "model.add(LSTM(128, activation='relu'))\n",
    "model.add(Dropout(0.2))\n",
    "\n",
    "model.add(Dense(32, activation='relu'))\n",
    "model.add(Dropout(0.2))\n",
    "\n",
    "model.add(Dense(10, activation='softmax'))"
   ]
  },
  {
   "cell_type": "code",
   "execution_count": 7,
   "metadata": {},
   "outputs": [],
   "source": [
    "opt = tf.keras.optimizers.Adam(lr=1e-3, decay=1e-5)"
   ]
  },
  {
   "cell_type": "code",
   "execution_count": 8,
   "metadata": {},
   "outputs": [],
   "source": [
    "model.compile(loss='sparse_categorical_crossentropy', optimizer=opt,metrics=['accuracy'])"
   ]
  },
  {
   "cell_type": "code",
   "execution_count": 9,
   "metadata": {},
   "outputs": [
    {
     "name": "stdout",
     "output_type": "stream",
     "text": [
      "Train on 60000 samples, validate on 10000 samples\n",
      "Epoch 1/15\n",
      "60000/60000 [==============================] - 323s 5ms/sample - loss: 0.6428 - acc: 0.7888 - val_loss: 0.1623 - val_acc: 0.9496\n",
      "Epoch 2/15\n",
      "60000/60000 [==============================] - 255s 4ms/sample - loss: 0.1645 - acc: 0.9557 - val_loss: 0.1168 - val_acc: 0.9665\n",
      "Epoch 3/15\n",
      "60000/60000 [==============================] - 259s 4ms/sample - loss: 0.1150 - acc: 0.9702 - val_loss: 0.0862 - val_acc: 0.9773\n",
      "Epoch 4/15\n",
      "60000/60000 [==============================] - 262s 4ms/sample - loss: 0.0869 - acc: 0.9776 - val_loss: 0.0656 - val_acc: 0.9816\n",
      "Epoch 5/15\n",
      "60000/60000 [==============================] - 266s 4ms/sample - loss: 0.0742 - acc: 0.9805 - val_loss: 0.0626 - val_acc: 0.9833\n",
      "Epoch 6/15\n",
      "60000/60000 [==============================] - 262s 4ms/sample - loss: 0.0618 - acc: 0.9832 - val_loss: 0.0521 - val_acc: 0.9872\n",
      "Epoch 7/15\n",
      "60000/60000 [==============================] - 262s 4ms/sample - loss: 0.0507 - acc: 0.9866 - val_loss: 0.0403 - val_acc: 0.9881\n",
      "Epoch 8/15\n",
      "60000/60000 [==============================] - 257s 4ms/sample - loss: 0.0510 - acc: 0.9869 - val_loss: 0.0416 - val_acc: 0.9884\n",
      "Epoch 9/15\n",
      "60000/60000 [==============================] - 269s 4ms/sample - loss: 0.0409 - acc: 0.9887 - val_loss: 0.0389 - val_acc: 0.9889\n",
      "Epoch 10/15\n",
      "60000/60000 [==============================] - 263s 4ms/sample - loss: 0.0369 - acc: 0.9898 - val_loss: 0.0337 - val_acc: 0.9904\n",
      "Epoch 11/15\n",
      "60000/60000 [==============================] - 275s 5ms/sample - loss: 0.0355 - acc: 0.9910 - val_loss: 0.0509 - val_acc: 0.9895\n",
      "Epoch 12/15\n",
      "60000/60000 [==============================] - 308s 5ms/sample - loss: 0.0300 - acc: 0.9922 - val_loss: 0.0395 - val_acc: 0.9905\n",
      "Epoch 13/15\n",
      "60000/60000 [==============================] - 314s 5ms/sample - loss: 0.0287 - acc: 0.9919 - val_loss: 0.0417 - val_acc: 0.9888\n",
      "Epoch 14/15\n",
      "60000/60000 [==============================] - 309s 5ms/sample - loss: 0.0287 - acc: 0.9925 - val_loss: 0.1826 - val_acc: 0.9767\n",
      "Epoch 15/15\n",
      "60000/60000 [==============================] - 322s 5ms/sample - loss: 0.0284 - acc: 0.9932 - val_loss: 0.0407 - val_acc: 0.9910\n"
     ]
    }
   ],
   "source": [
    "hist=model.fit(x_train, y_train, epochs=15, validation_data=(x_test, y_test))\n"
   ]
  },
  {
   "cell_type": "code",
   "execution_count": 10,
   "metadata": {},
   "outputs": [
    {
     "name": "stdout",
     "output_type": "stream",
     "text": [
      "10000/10000 [==============================] - 8s 768us/sample - loss: 0.0407 - acc: 0.9910\n",
      "test loss0.040735,accuracy99.100000%\n"
     ]
    }
   ],
   "source": [
    "test_score=model.evaluate(x_test,y_test)\n",
    "print(\"test loss{:4f},accuracy{:2f}%\".format(test_score[0],test_score[1]*100))\n"
   ]
  },
  {
   "cell_type": "code",
   "execution_count": 17,
   "metadata": {},
   "outputs": [
    {
     "data": {
      "text/plain": [
       "Text(0, 0.5, 'acc')"
      ]
     },
     "execution_count": 17,
     "metadata": {},
     "output_type": "execute_result"
    },
    {
     "data": {
      "image/png": "[encoded data removed]",
      "text/plain": [
       "<Figure size 432x288 with 1 Axes>"
      ]
     },
     "metadata": {
      "needs_background": "light"
     },
     "output_type": "display_data"
    }
   ],
   "source": [
    "import matplotlib.pyplot as plt\n",
    "\n",
    "f, ax = plt.subplots()\n",
    "ax.plot([None] + hist.history['acc'], 'o-')\n",
    "ax.plot([None] + hist.history['val_acc'], 'x-')\n",
    "ax.legend(['Train acc', 'Validation acc'], loc = 0)\n",
    "ax.set_title('Training/Validation acc per Epoch')\n",
    "ax.set_xlabel('Epoch')\n",
    "ax.set_ylabel('acc')"
   ]
  },
  {
   "cell_type": "code",
   "execution_count": 16,
   "metadata": {},
   "outputs": [
    {
     "data": {
      "text/plain": [
       "Text(0, 0.5, 'Loss')"
      ]
     },
     "execution_count": 16,
     "metadata": {},
     "output_type": "execute_result"
    },
    {
     "data": {
      "image/png": "[encoded data removed]",
      "text/plain": [
       "<Figure size 432x288 with 1 Axes>"
      ]
     },
     "metadata": {
      "needs_background": "light"
     },
     "output_type": "display_data"
    }
   ],
   "source": [
    "f, ax = plt.subplots()\n",
    "ax.plot([None] + hist.history['loss'], 'o-')\n",
    "ax.plot([None] + hist.history['val_loss'], 'x-')\n",
    "\n",
    "ax.legend(['Train Loss', 'Validation Loss'], loc = 0)\n",
    "ax.set_title('Training/Validation Loss per Epoch')\n",
    "ax.set_xlabel('Epoch')\n",
    "ax.set_ylabel('Loss')"
   ]
  },
  {
   "cell_type": "code",
   "execution_count": null,
   "metadata": {},
   "outputs": [],
   "source": []
  }
 ],
 "metadata": {
  "kernelspec": {
   "display_name": "Python 3",
   "language": "python",
   "name": "python3"
  },
  "language_info": {
   "codemirror_mode": {
    "name": "ipython",
    "version": 3
   },
   "file_extension": ".py",
   "mimetype": "text/x-python",
   "name": "python",
   "nbconvert_exporter": "python",
   "pygments_lexer": "ipython3",
   "version": "3.6.8"
  }
 },
 "nbformat": 4,
 "nbformat_minor": 2
}
