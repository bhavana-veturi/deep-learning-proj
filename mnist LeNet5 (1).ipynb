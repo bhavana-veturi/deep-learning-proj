{
 "cells": [
  {
   "cell_type": "code",
   "execution_count": 16,
   "metadata": {},
   "outputs": [],
   "source": [
    "from keras import layers\n",
    "import tensorflow as tf"
   ]
  },
  {
   "cell_type": "code",
   "execution_count": 6,
   "metadata": {},
   "outputs": [],
   "source": [
    "import os\n",
    "from PIL import Image\n",
    "import numpy as np\n",
    "from random import shuffle\n",
    "\n",
    "import matplotlib.pyplot as plt"
   ]
  },
  {
   "cell_type": "code",
   "execution_count": 7,
   "metadata": {},
   "outputs": [],
   "source": [
    "import keras.preprocessing.image\n",
    "\n",
    "import pandas as pd\n"
   ]
  },
  {
   "cell_type": "code",
   "execution_count": 8,
   "metadata": {},
   "outputs": [],
   "source": [
    "import keras\n",
    "from keras.models import Sequential\n",
    "from keras.layers import Dense\n",
    "from keras.layers import Dropout\n",
    "from keras.layers import Flatten\n",
    "from keras.layers.convolutional import Conv2D\n",
    "from keras.layers.convolutional import MaxPooling2D\n",
    "from keras.layers. normalization import BatchNormalization"
   ]
  },
  {
   "cell_type": "code",
   "execution_count": 9,
   "metadata": {},
   "outputs": [],
   "source": [
    "from keras.datasets import mnist\n",
    "from keras.utils import np_utils"
   ]
  },
  {
   "cell_type": "code",
   "execution_count": 10,
   "metadata": {},
   "outputs": [],
   "source": [
    "(x_train,y_train),(x_test,y_test)=mnist.load_data()"
   ]
  },
  {
   "cell_type": "code",
   "execution_count": 11,
   "metadata": {},
   "outputs": [],
   "source": [
    "x_train=x_train.astype(\"float32\")\n",
    "x_test=x_test.astype(\"float32\")\n",
    "x_train/=255\n",
    "x_test/=255"
   ]
  },
  {
   "cell_type": "code",
   "execution_count": 19,
   "metadata": {},
   "outputs": [],
   "source": [
    "y_train=np_utils.to_categorical(y_train,10)\n",
    "y_test=np_utils.to_categorical(y_test,10)"
   ]
  },
  {
   "cell_type": "code",
   "execution_count": 13,
   "metadata": {},
   "outputs": [],
   "source": [
    "x_train=x_train.reshape(x_train.shape[0],28,28,1)\n",
    "x_test=x_test.reshape(x_test.shape[0],28,28,1)\n"
   ]
  },
  {
   "cell_type": "code",
   "execution_count": 27,
   "metadata": {},
   "outputs": [],
   "source": [
    "#lenet5 model\n",
    "model=Sequential()"
   ]
  },
  {
   "cell_type": "code",
   "execution_count": 28,
   "metadata": {},
   "outputs": [],
   "source": [
    "#Convolution layer 1\n",
    "model.add(layers.Conv2D(6,kernel_size=(5,5),strides=(1,1),activation='tanh',input_shape=(28,28,1),padding=\"same\"))\n",
    "                        "
   ]
  },
  {
   "cell_type": "code",
   "execution_count": 29,
   "metadata": {},
   "outputs": [],
   "source": [
    "#pooling layer\n",
    "model.add(layers.AveragePooling2D(pool_size=(2,2),strides=(1,1),padding=\"valid\"))\n",
    "model.add(layers.Conv2D(16,kernel_size=(5,5),strides=(1,1),activation='tanh',padding=\"valid\"))#convolution layer"
   ]
  },
  {
   "cell_type": "code",
   "execution_count": 30,
   "metadata": {},
   "outputs": [],
   "source": [
    "model.add(layers.AveragePooling2D(pool_size=(2,2),strides=(2,2),padding=\"valid\"))\n",
    "#fully connected convolution layer\n",
    "model.add(layers.Conv2D(120,kernel_size=(5,5),strides=(1,1),activation='tanh',padding=\"valid\"))\n",
    "model.add(layers.Flatten())\n"
   ]
  },
  {
   "cell_type": "code",
   "execution_count": 31,
   "metadata": {},
   "outputs": [],
   "source": [
    "model.add(layers.Dense(84,activation='tanh'))#layer 6\n",
    "model.add(layers.Dense(10,activation='softmax'))#output layer"
   ]
  },
  {
   "cell_type": "code",
   "execution_count": 32,
   "metadata": {},
   "outputs": [],
   "source": [
    "model.compile(loss=keras.losses.categorical_crossentropy,optimizer='SGD',metrics=[\"accuracy\"])"
   ]
  },
  {
   "cell_type": "code",
   "execution_count": 33,
   "metadata": {},
   "outputs": [
    {
     "name": "stdout",
     "output_type": "stream",
     "text": [
      "WARNING:tensorflow:From C:\\Users\\Bhavana\\Anaconda3.1\\envs\\tensorflow-cpu-keras\\lib\\site-packages\\tensorflow\\python\\ops\\math_ops.py:3066: to_int32 (from tensorflow.python.ops.math_ops) is deprecated and will be removed in a future version.\n",
      "Instructions for updating:\n",
      "Use tf.cast instead.\n",
      "Train on 60000 samples, validate on 10000 samples\n",
      "Epoch 1/20\n",
      "60000/60000 [==============================] - 144s 2ms/step - loss: 0.6642 - acc: 0.8309 - val_loss: 0.3390 - val_acc: 0.9060\n",
      "Epoch 2/20\n",
      "60000/60000 [==============================] - 135s 2ms/step - loss: 0.3102 - acc: 0.9115 - val_loss: 0.2641 - val_acc: 0.9247\n",
      "Epoch 3/20\n",
      "60000/60000 [==============================] - 135s 2ms/step - loss: 0.2551 - acc: 0.9264 - val_loss: 0.2259 - val_acc: 0.9352\n",
      "Epoch 4/20\n",
      "60000/60000 [==============================] - 137s 2ms/step - loss: 0.2214 - acc: 0.9361 - val_loss: 0.2002 - val_acc: 0.9415\n",
      "Epoch 5/20\n",
      "60000/60000 [==============================] - 155s 3ms/step - loss: 0.1971 - acc: 0.9427 - val_loss: 0.1801 - val_acc: 0.9487\n",
      "Epoch 6/20\n",
      "60000/60000 [==============================] - 128s 2ms/step - loss: 0.1780 - acc: 0.9496 - val_loss: 0.1658 - val_acc: 0.9526\n",
      "Epoch 7/20\n",
      "60000/60000 [==============================] - 144s 2ms/step - loss: 0.1625 - acc: 0.9541 - val_loss: 0.1532 - val_acc: 0.9566\n",
      "Epoch 8/20\n",
      "60000/60000 [==============================] - 139s 2ms/step - loss: 0.1495 - acc: 0.9577 - val_loss: 0.1406 - val_acc: 0.9598\n",
      "Epoch 9/20\n",
      "60000/60000 [==============================] - 130s 2ms/step - loss: 0.1383 - acc: 0.9609 - val_loss: 0.1314 - val_acc: 0.9635\n",
      "Epoch 10/20\n",
      "60000/60000 [==============================] - 159s 3ms/step - loss: 0.1283 - acc: 0.9638 - val_loss: 0.1237 - val_acc: 0.9647\n",
      "Epoch 11/20\n",
      "60000/60000 [==============================] - 150s 2ms/step - loss: 0.1197 - acc: 0.9663 - val_loss: 0.1174 - val_acc: 0.9654\n",
      "Epoch 12/20\n",
      "60000/60000 [==============================] - 132s 2ms/step - loss: 0.1119 - acc: 0.9685 - val_loss: 0.1103 - val_acc: 0.9681\n",
      "Epoch 13/20\n",
      "60000/60000 [==============================] - 128s 2ms/step - loss: 0.1050 - acc: 0.9711 - val_loss: 0.1039 - val_acc: 0.9703\n",
      "Epoch 14/20\n",
      "60000/60000 [==============================] - 144s 2ms/step - loss: 0.0987 - acc: 0.9729 - val_loss: 0.0979 - val_acc: 0.9716\n",
      "Epoch 15/20\n",
      "60000/60000 [==============================] - 154s 3ms/step - loss: 0.0932 - acc: 0.9743 - val_loss: 0.0930 - val_acc: 0.9738\n",
      "Epoch 16/20\n",
      "60000/60000 [==============================] - 148s 2ms/step - loss: 0.0882 - acc: 0.9759 - val_loss: 0.0897 - val_acc: 0.9750\n",
      "Epoch 17/20\n",
      "60000/60000 [==============================] - 157s 3ms/step - loss: 0.0834 - acc: 0.9773 - val_loss: 0.0860 - val_acc: 0.9755\n",
      "Epoch 18/20\n",
      "60000/60000 [==============================] - 172s 3ms/step - loss: 0.0793 - acc: 0.9785 - val_loss: 0.0828 - val_acc: 0.9773\n",
      "Epoch 19/20\n",
      "60000/60000 [==============================] - 143s 2ms/step - loss: 0.0754 - acc: 0.9799 - val_loss: 0.0802 - val_acc: 0.9762\n",
      "Epoch 20/20\n",
      "60000/60000 [==============================] - 130s 2ms/step - loss: 0.0720 - acc: 0.9806 - val_loss: 0.0755 - val_acc: 0.9799\n"
     ]
    }
   ],
   "source": [
    "hist=model.fit(x=x_train,y=y_train,epochs=20,batch_size=128,validation_data=(x_test,y_test),verbose=1)"
   ]
  },
  {
   "cell_type": "code",
   "execution_count": 36,
   "metadata": {},
   "outputs": [
    {
     "name": "stdout",
     "output_type": "stream",
     "text": [
      "10000/10000 [==============================] - 11s 1ms/step\n",
      "test loss0.075509,accuracy97.990000%\n"
     ]
    }
   ],
   "source": [
    "test_score=model.evaluate(x_test,y_test)\n",
    "print(\"test loss{:4f},accuracy{:2f}%\".format(test_score[0],test_score[1]*100))\n"
   ]
  },
  {
   "cell_type": "code",
   "execution_count": 38,
   "metadata": {},
   "outputs": [
    {
     "data": {
      "text/plain": [
       "Text(0, 0.5, 'acc')"
      ]
     },
     "execution_count": 38,
     "metadata": {},
     "output_type": "execute_result"
    },
    {
     "data": {
      "image/png": "[encoded data removed]",
      "text/plain": [
       "<Figure size 432x288 with 1 Axes>"
      ]
     },
     "metadata": {
      "needs_background": "light"
     },
     "output_type": "display_data"
    }
   ],
   "source": [
    "f, ax = plt.subplots()\n",
    "ax.plot([None] + hist.history['acc'], 'o-')\n",
    "ax.plot([None] + hist.history['val_acc'], 'x-')\n",
    "ax.legend(['Train acc', 'Validation acc'], loc = 0)\n",
    "ax.set_title('Training/Validation acc per Epoch')\n",
    "ax.set_xlabel('Epoch')\n",
    "ax.set_ylabel('acc')"
   ]
  },
  {
   "cell_type": "code",
   "execution_count": 39,
   "metadata": {},
   "outputs": [
    {
     "data": {
      "text/plain": [
       "Text(0, 0.5, 'Loss')"
      ]
     },
     "execution_count": 39,
     "metadata": {},
     "output_type": "execute_result"
    },
    {
     "data": {
      "image/png": "[encoded data removed]",
      "text/plain": [
       "<Figure size 432x288 with 1 Axes>"
      ]
     },
     "metadata": {
      "needs_background": "light"
     },
     "output_type": "display_data"
    }
   ],
   "source": [
    "f, ax = plt.subplots()\n",
    "ax.plot([None] + hist.history['loss'], 'o-')\n",
    "ax.plot([None] + hist.history['val_loss'], 'x-')\n",
    "\n",
    "ax.legend(['Train Loss', 'Validation Loss'], loc = 0)\n",
    "ax.set_title('Training/Validation Loss per Epoch')\n",
    "ax.set_xlabel('Epoch')\n",
    "ax.set_ylabel('Loss')"
   ]
  },
  {
   "cell_type": "code",
   "execution_count": null,
   "metadata": {},
   "outputs": [],
   "source": []
  }
 ],
 "metadata": {
  "kernelspec": {
   "display_name": "Python 3",
   "language": "python",
   "name": "python3"
  },
  "language_info": {
   "codemirror_mode": {
    "name": "ipython",
    "version": 3
   },
   "file_extension": ".py",
   "mimetype": "text/x-python",
   "name": "python",
   "nbconvert_exporter": "python",
   "pygments_lexer": "ipython3",
   "version": "3.6.8"
  }
 },
 "nbformat": 4,
 "nbformat_minor": 2
}
